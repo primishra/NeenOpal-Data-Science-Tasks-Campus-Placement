{
 "cells": [
  {
   "cell_type": "code",
   "execution_count": 1,
   "id": "e2be32fd",
   "metadata": {},
   "outputs": [],
   "source": [
    "import pandas as pd"
   ]
  },
  {
   "cell_type": "code",
   "execution_count": 2,
   "id": "da625795",
   "metadata": {},
   "outputs": [],
   "source": [
    "used_bikes = pd.read_csv(r\"G:\\Company Tests\\NeenOpal\\Task 2 Data\\used_bikes.csv\")"
   ]
  },
  {
   "cell_type": "code",
   "execution_count": 13,
   "id": "9a6f2565",
   "metadata": {},
   "outputs": [
    {
     "data": {
      "text/html": [
       "<div>\n",
       "<style scoped>\n",
       "    .dataframe tbody tr th:only-of-type {\n",
       "        vertical-align: middle;\n",
       "    }\n",
       "\n",
       "    .dataframe tbody tr th {\n",
       "        vertical-align: top;\n",
       "    }\n",
       "\n",
       "    .dataframe thead th {\n",
       "        text-align: right;\n",
       "    }\n",
       "</style>\n",
       "<table border=\"1\" class=\"dataframe\">\n",
       "  <thead>\n",
       "    <tr style=\"text-align: right;\">\n",
       "      <th></th>\n",
       "      <th>bike_name</th>\n",
       "      <th>price</th>\n",
       "      <th>city</th>\n",
       "      <th>kms_driven</th>\n",
       "      <th>owner</th>\n",
       "      <th>age</th>\n",
       "      <th>power</th>\n",
       "      <th>brand</th>\n",
       "    </tr>\n",
       "  </thead>\n",
       "  <tbody>\n",
       "    <tr>\n",
       "      <th>0</th>\n",
       "      <td>TVS Star City Plus Dual Tone 110cc</td>\n",
       "      <td>35000.0</td>\n",
       "      <td>Ahmedabad</td>\n",
       "      <td>17654.0</td>\n",
       "      <td>First Owner</td>\n",
       "      <td>3.0</td>\n",
       "      <td>110.0</td>\n",
       "      <td>TVS</td>\n",
       "    </tr>\n",
       "    <tr>\n",
       "      <th>1</th>\n",
       "      <td>Royal Enfield Classic 350cc</td>\n",
       "      <td>119900.0</td>\n",
       "      <td>Delhi</td>\n",
       "      <td>11000.0</td>\n",
       "      <td>First Owner</td>\n",
       "      <td>4.0</td>\n",
       "      <td>350.0</td>\n",
       "      <td>Royal Enfield</td>\n",
       "    </tr>\n",
       "    <tr>\n",
       "      <th>2</th>\n",
       "      <td>Triumph Daytona 675R</td>\n",
       "      <td>600000.0</td>\n",
       "      <td>Delhi</td>\n",
       "      <td>110.0</td>\n",
       "      <td>First Owner</td>\n",
       "      <td>8.0</td>\n",
       "      <td>675.0</td>\n",
       "      <td>Triumph</td>\n",
       "    </tr>\n",
       "    <tr>\n",
       "      <th>3</th>\n",
       "      <td>TVS Apache RTR 180cc</td>\n",
       "      <td>65000.0</td>\n",
       "      <td>Bangalore</td>\n",
       "      <td>16329.0</td>\n",
       "      <td>First Owner</td>\n",
       "      <td>4.0</td>\n",
       "      <td>180.0</td>\n",
       "      <td>TVS</td>\n",
       "    </tr>\n",
       "    <tr>\n",
       "      <th>4</th>\n",
       "      <td>Yamaha FZ S V 2.0 150cc-Ltd. Edition</td>\n",
       "      <td>80000.0</td>\n",
       "      <td>Bangalore</td>\n",
       "      <td>10000.0</td>\n",
       "      <td>First Owner</td>\n",
       "      <td>3.0</td>\n",
       "      <td>150.0</td>\n",
       "      <td>Yamaha</td>\n",
       "    </tr>\n",
       "  </tbody>\n",
       "</table>\n",
       "</div>"
      ],
      "text/plain": [
       "                              bike_name     price       city  kms_driven  \\\n",
       "0    TVS Star City Plus Dual Tone 110cc   35000.0  Ahmedabad     17654.0   \n",
       "1           Royal Enfield Classic 350cc  119900.0      Delhi     11000.0   \n",
       "2                  Triumph Daytona 675R  600000.0      Delhi       110.0   \n",
       "3                  TVS Apache RTR 180cc   65000.0  Bangalore     16329.0   \n",
       "4  Yamaha FZ S V 2.0 150cc-Ltd. Edition   80000.0  Bangalore     10000.0   \n",
       "\n",
       "         owner  age  power          brand  \n",
       "0  First Owner  3.0  110.0            TVS  \n",
       "1  First Owner  4.0  350.0  Royal Enfield  \n",
       "2  First Owner  8.0  675.0        Triumph  \n",
       "3  First Owner  4.0  180.0            TVS  \n",
       "4  First Owner  3.0  150.0         Yamaha  "
      ]
     },
     "execution_count": 13,
     "metadata": {},
     "output_type": "execute_result"
    }
   ],
   "source": [
    "used_bikes.head()"
   ]
  },
  {
   "cell_type": "code",
   "execution_count": 14,
   "id": "3fce961b",
   "metadata": {},
   "outputs": [
    {
     "data": {
      "text/plain": [
       "(149, 8)"
      ]
     },
     "execution_count": 14,
     "metadata": {},
     "output_type": "execute_result"
    }
   ],
   "source": [
    "used_bikes.shape"
   ]
  },
  {
   "cell_type": "markdown",
   "id": "d7d88ca1",
   "metadata": {},
   "source": [
    "### Without changing the column datatypes"
   ]
  },
  {
   "cell_type": "code",
   "execution_count": 9,
   "id": "8cee3c4d",
   "metadata": {},
   "outputs": [
    {
     "name": "stdout",
     "output_type": "stream",
     "text": [
      "<class 'pandas.core.frame.DataFrame'>\n",
      "RangeIndex: 149 entries, 0 to 148\n",
      "Data columns (total 8 columns):\n",
      " #   Column      Non-Null Count  Dtype  \n",
      "---  ------      --------------  -----  \n",
      " 0   bike_name   149 non-null    object \n",
      " 1   price       149 non-null    float64\n",
      " 2   city        149 non-null    object \n",
      " 3   kms_driven  149 non-null    float64\n",
      " 4   owner       149 non-null    object \n",
      " 5   age         149 non-null    float64\n",
      " 6   power       149 non-null    float64\n",
      " 7   brand       149 non-null    object \n",
      "dtypes: float64(4), object(4)\n",
      "memory usage: 9.4+ KB\n"
     ]
    }
   ],
   "source": [
    "## total memory usage by the data\n",
    "\n",
    "used_bikes.info()"
   ]
  },
  {
   "cell_type": "markdown",
   "id": "f4fb1209",
   "metadata": {},
   "source": [
    "Total memory usage by the data - **9.4 kb** (all columns combined)"
   ]
  },
  {
   "cell_type": "code",
   "execution_count": 16,
   "id": "813dc1bf",
   "metadata": {},
   "outputs": [
    {
     "data": {
      "text/plain": [
       "Index           128\n",
       "bike_name     11954\n",
       "price          1192\n",
       "city           9546\n",
       "kms_driven     1192\n",
       "owner         10144\n",
       "age            1192\n",
       "power          1192\n",
       "brand          9517\n",
       "dtype: int64"
      ]
     },
     "execution_count": 16,
     "metadata": {},
     "output_type": "execute_result"
    }
   ],
   "source": [
    "## memory usage by each column (in bytes)\n",
    "\n",
    "used_bikes.memory_usage(deep = True)"
   ]
  },
  {
   "cell_type": "markdown",
   "id": "ff37733b",
   "metadata": {},
   "source": [
    "### Changing datatype of columns"
   ]
  },
  {
   "cell_type": "markdown",
   "id": "25e87132",
   "metadata": {},
   "source": [
    "Here columns _price, kms_driven, age & power_ are **float** type. As they contain only integer values in the dataset, datatype of these columns can be converted into **int**. In this way memory usage can also be reduced."
   ]
  },
  {
   "cell_type": "code",
   "execution_count": 27,
   "id": "05e583f7",
   "metadata": {},
   "outputs": [],
   "source": [
    "## Changing datatypes of columns\n",
    "\n",
    "used_bikes[\"price\"] = used_bikes[\"price\"].astype(int)\n",
    "used_bikes[\"kms_driven\"] = used_bikes[\"kms_driven\"].astype(int)\n",
    "used_bikes[\"age\"] = used_bikes[\"age\"].astype(int)\n",
    "used_bikes[\"power\"] = used_bikes[\"power\"].astype(int)"
   ]
  },
  {
   "cell_type": "code",
   "execution_count": 28,
   "id": "54f36ba4",
   "metadata": {},
   "outputs": [
    {
     "name": "stdout",
     "output_type": "stream",
     "text": [
      "<class 'pandas.core.frame.DataFrame'>\n",
      "RangeIndex: 149 entries, 0 to 148\n",
      "Data columns (total 8 columns):\n",
      " #   Column      Non-Null Count  Dtype \n",
      "---  ------      --------------  ----- \n",
      " 0   bike_name   149 non-null    object\n",
      " 1   price       149 non-null    int32 \n",
      " 2   city        149 non-null    object\n",
      " 3   kms_driven  149 non-null    int32 \n",
      " 4   owner       149 non-null    object\n",
      " 5   age         149 non-null    int32 \n",
      " 6   power       149 non-null    int32 \n",
      " 7   brand       149 non-null    object\n",
      "dtypes: int32(4), object(4)\n",
      "memory usage: 7.1+ KB\n"
     ]
    }
   ],
   "source": [
    "## total memory usage by the data (after changing datatype)\n",
    "\n",
    "used_bikes.info()"
   ]
  },
  {
   "cell_type": "code",
   "execution_count": 29,
   "id": "ed854e0d",
   "metadata": {},
   "outputs": [
    {
     "data": {
      "text/plain": [
       "Index           128\n",
       "bike_name     11954\n",
       "price           596\n",
       "city           9546\n",
       "kms_driven      596\n",
       "owner         10144\n",
       "age             596\n",
       "power           596\n",
       "brand          9517\n",
       "dtype: int64"
      ]
     },
     "execution_count": 29,
     "metadata": {},
     "output_type": "execute_result"
    }
   ],
   "source": [
    "## memory usage by each column (in bytes) -after changing datatype\n",
    "\n",
    "used_bikes.memory_usage(deep = True)"
   ]
  },
  {
   "cell_type": "code",
   "execution_count": null,
   "id": "a5bf158e",
   "metadata": {},
   "outputs": [],
   "source": []
  },
  {
   "cell_type": "markdown",
   "id": "1f95d6ac",
   "metadata": {},
   "source": [
    "### For questions 3 & 4, I am not very sure about the approach, but I'll try some way. "
   ]
  },
  {
   "cell_type": "markdown",
   "id": "c77eccef",
   "metadata": {},
   "source": [
    "#### _Deleting indexing from the table:_\n",
    "\n",
    "ALTER TABLE used_bikes \n",
    "DROP INDEX\n",
    "\n",
    "\n",
    "#### _Inserting data into mysql:_\n",
    "\n",
    "used_bikes.to_sql(con=con, name='USED_BIKES', if_exists='replace', flavor='mysql')\n",
    "\n"
   ]
  },
  {
   "cell_type": "code",
   "execution_count": null,
   "id": "df6709fe",
   "metadata": {},
   "outputs": [],
   "source": []
  }
 ],
 "metadata": {
  "kernelspec": {
   "display_name": "Python 3",
   "language": "python",
   "name": "python3"
  },
  "language_info": {
   "codemirror_mode": {
    "name": "ipython",
    "version": 3
   },
   "file_extension": ".py",
   "mimetype": "text/x-python",
   "name": "python",
   "nbconvert_exporter": "python",
   "pygments_lexer": "ipython3",
   "version": "3.7.8rc1"
  }
 },
 "nbformat": 4,
 "nbformat_minor": 5
}
