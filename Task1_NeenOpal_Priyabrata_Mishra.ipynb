{
 "cells": [
  {
   "cell_type": "code",
   "execution_count": 1,
   "id": "fffbe74d",
   "metadata": {},
   "outputs": [],
   "source": [
    "import pandas as pd"
   ]
  },
  {
   "cell_type": "code",
   "execution_count": 2,
   "id": "ecfba6a6",
   "metadata": {},
   "outputs": [],
   "source": [
    "## reading data\n",
    "data1 = pd.read_excel(r\"G:\\NeenOpal\\Records Matching Task.xlsx\", sheet_name = \"data1\")\n",
    "\n",
    "data2 = pd.read_excel(r\"G:\\NeenOpal\\Records Matching Task.xlsx\", sheet_name = \"data2\")"
   ]
  },
  {
   "cell_type": "code",
   "execution_count": 3,
   "id": "bfa26577",
   "metadata": {},
   "outputs": [
    {
     "data": {
      "text/plain": [
       "((9478, 3), (9479, 3))"
      ]
     },
     "execution_count": 3,
     "metadata": {},
     "output_type": "execute_result"
    }
   ],
   "source": [
    "data1.shape, data2.shape"
   ]
  },
  {
   "cell_type": "code",
   "execution_count": 5,
   "id": "47ee7c33",
   "metadata": {},
   "outputs": [
    {
     "data": {
      "text/plain": [
       "(         Order ID       Product ID  Qty\n",
       " 0  CA-2014-100006  TEC-PH-10002075    3\n",
       " 1  CA-2014-100090  FUR-TA-10003715    3,\n",
       "          Order ID       Product ID  Qty\n",
       " 0  CA-2014-100090  FUR-TA-10003715    3\n",
       " 1  CA-2014-100090  OFF-BI-10001597    6)"
      ]
     },
     "execution_count": 5,
     "metadata": {},
     "output_type": "execute_result"
    }
   ],
   "source": [
    "data1[:2], data2[:2]"
   ]
  },
  {
   "cell_type": "code",
   "execution_count": 6,
   "id": "bda0ac8b",
   "metadata": {},
   "outputs": [],
   "source": [
    "## creating key for the both datasets (combining Order ID & Product ID)\n",
    "\n",
    "data1[\"Key\"] = data1[\"Order ID\"].astype(str) + \"_\" + data1[\"Product ID\"]\n",
    "\n",
    "data2[\"Key\"] = data2[\"Order ID\"].astype(str) + \"_\" + data2[\"Product ID\"]"
   ]
  },
  {
   "cell_type": "code",
   "execution_count": 7,
   "id": "e8753dd9",
   "metadata": {
    "scrolled": true
   },
   "outputs": [
    {
     "data": {
      "text/plain": [
       "(         Order ID       Product ID  Qty                             Key\n",
       " 0  CA-2014-100006  TEC-PH-10002075    3  CA-2014-100006_TEC-PH-10002075\n",
       " 1  CA-2014-100090  FUR-TA-10003715    3  CA-2014-100090_FUR-TA-10003715,\n",
       "          Order ID       Product ID  Qty                             Key\n",
       " 0  CA-2014-100090  FUR-TA-10003715    3  CA-2014-100090_FUR-TA-10003715\n",
       " 1  CA-2014-100090  OFF-BI-10001597    6  CA-2014-100090_OFF-BI-10001597)"
      ]
     },
     "execution_count": 7,
     "metadata": {},
     "output_type": "execute_result"
    }
   ],
   "source": [
    "data1[:2], data2[:2]"
   ]
  },
  {
   "cell_type": "markdown",
   "id": "4d5d1fa9",
   "metadata": {},
   "source": [
    "## Question 1: How to identify the Records (Order ID + Product ID combination) present in data1 but missing in data2 (Specify the number of records missing in your answer)"
   ]
  },
  {
   "cell_type": "markdown",
   "id": "1eb60876",
   "metadata": {},
   "source": [
    "#### Answer is 507 "
   ]
  },
  {
   "cell_type": "markdown",
   "id": "368817b0",
   "metadata": {},
   "source": [
    "### Approach: \n",
    "- Left merge data2 with data1 (i.e. data1 \"left join\" data2).\n",
    "- Using _indicator_ parameter to find out which rows are present only in data1 (left_only) and which are present in both the datasets (both).\n",
    "- Selecting only rows that have \"left_only\".\n",
    "\n",
    "#### Note:\n",
    "- Merging on all the columns to avoid creation of multiple columns with same value. "
   ]
  },
  {
   "cell_type": "code",
   "execution_count": 14,
   "id": "65c73ca3",
   "metadata": {},
   "outputs": [],
   "source": [
    "data1_left_join = data1.merge(data2, on = [\"Order ID\", \"Product ID\", \"Qty\",\"Key\"], how = \"left\", indicator = True)"
   ]
  },
  {
   "cell_type": "code",
   "execution_count": 15,
   "id": "1007d99e",
   "metadata": {},
   "outputs": [
    {
     "data": {
      "text/html": [
       "<div>\n",
       "<style scoped>\n",
       "    .dataframe tbody tr th:only-of-type {\n",
       "        vertical-align: middle;\n",
       "    }\n",
       "\n",
       "    .dataframe tbody tr th {\n",
       "        vertical-align: top;\n",
       "    }\n",
       "\n",
       "    .dataframe thead th {\n",
       "        text-align: right;\n",
       "    }\n",
       "</style>\n",
       "<table border=\"1\" class=\"dataframe\">\n",
       "  <thead>\n",
       "    <tr style=\"text-align: right;\">\n",
       "      <th></th>\n",
       "      <th>Order ID</th>\n",
       "      <th>Product ID</th>\n",
       "      <th>Qty</th>\n",
       "      <th>Key</th>\n",
       "      <th>_merge</th>\n",
       "    </tr>\n",
       "  </thead>\n",
       "  <tbody>\n",
       "    <tr>\n",
       "      <th>0</th>\n",
       "      <td>CA-2014-100006</td>\n",
       "      <td>TEC-PH-10002075</td>\n",
       "      <td>3</td>\n",
       "      <td>CA-2014-100006_TEC-PH-10002075</td>\n",
       "      <td>left_only</td>\n",
       "    </tr>\n",
       "    <tr>\n",
       "      <th>1</th>\n",
       "      <td>CA-2014-100090</td>\n",
       "      <td>FUR-TA-10003715</td>\n",
       "      <td>3</td>\n",
       "      <td>CA-2014-100090_FUR-TA-10003715</td>\n",
       "      <td>both</td>\n",
       "    </tr>\n",
       "  </tbody>\n",
       "</table>\n",
       "</div>"
      ],
      "text/plain": [
       "         Order ID       Product ID  Qty                             Key  \\\n",
       "0  CA-2014-100006  TEC-PH-10002075    3  CA-2014-100006_TEC-PH-10002075   \n",
       "1  CA-2014-100090  FUR-TA-10003715    3  CA-2014-100090_FUR-TA-10003715   \n",
       "\n",
       "      _merge  \n",
       "0  left_only  \n",
       "1       both  "
      ]
     },
     "execution_count": 15,
     "metadata": {},
     "output_type": "execute_result"
    }
   ],
   "source": [
    "data1_left_join[:2]"
   ]
  },
  {
   "cell_type": "code",
   "execution_count": 16,
   "id": "b00f37d0",
   "metadata": {},
   "outputs": [],
   "source": [
    "data1_only = data1_left_join[data1_left_join[\"_merge\"] == \"left_only\"]"
   ]
  },
  {
   "cell_type": "code",
   "execution_count": 17,
   "id": "59206c4e",
   "metadata": {
    "scrolled": true
   },
   "outputs": [
    {
     "data": {
      "text/plain": [
       "(507, 5)"
      ]
     },
     "execution_count": 17,
     "metadata": {},
     "output_type": "execute_result"
    }
   ],
   "source": [
    "data1_only.shape"
   ]
  },
  {
   "cell_type": "markdown",
   "id": "bf41cc38",
   "metadata": {},
   "source": [
    "## Question 2: How to identify the Records (Order ID + Product ID combination) missing in data1 but present in data2 (Specify the number of records missing in your answer)"
   ]
  },
  {
   "cell_type": "markdown",
   "id": "8aa6d0b3",
   "metadata": {},
   "source": [
    "#### Answer is 508"
   ]
  },
  {
   "cell_type": "markdown",
   "id": "eb153cf8",
   "metadata": {},
   "source": [
    "### Approach (similar to Qn 1): \n",
    "- Left merge data1 with data2  (i.e. data2 \"left join\" data1).\n",
    "- Using _indicator_ parameter to find out which rows are present only in data1 (left_only) and which are present in both the datasets (both).\n",
    "- Selecting only rows that have \"left_only\".\n",
    "\n",
    "#### Note:\n",
    "- Merging on all the columns to avoid creation of multiple columns with same value. "
   ]
  },
  {
   "cell_type": "code",
   "execution_count": 20,
   "id": "f1697dd1",
   "metadata": {},
   "outputs": [
    {
     "data": {
      "text/html": [
       "<div>\n",
       "<style scoped>\n",
       "    .dataframe tbody tr th:only-of-type {\n",
       "        vertical-align: middle;\n",
       "    }\n",
       "\n",
       "    .dataframe tbody tr th {\n",
       "        vertical-align: top;\n",
       "    }\n",
       "\n",
       "    .dataframe thead th {\n",
       "        text-align: right;\n",
       "    }\n",
       "</style>\n",
       "<table border=\"1\" class=\"dataframe\">\n",
       "  <thead>\n",
       "    <tr style=\"text-align: right;\">\n",
       "      <th></th>\n",
       "      <th>Order ID</th>\n",
       "      <th>Product ID</th>\n",
       "      <th>Qty</th>\n",
       "      <th>Key</th>\n",
       "      <th>_merge</th>\n",
       "    </tr>\n",
       "  </thead>\n",
       "  <tbody>\n",
       "    <tr>\n",
       "      <th>0</th>\n",
       "      <td>CA-2014-100090</td>\n",
       "      <td>FUR-TA-10003715</td>\n",
       "      <td>3</td>\n",
       "      <td>CA-2014-100090_FUR-TA-10003715</td>\n",
       "      <td>both</td>\n",
       "    </tr>\n",
       "    <tr>\n",
       "      <th>1</th>\n",
       "      <td>CA-2014-100090</td>\n",
       "      <td>OFF-BI-10001597</td>\n",
       "      <td>6</td>\n",
       "      <td>CA-2014-100090_OFF-BI-10001597</td>\n",
       "      <td>both</td>\n",
       "    </tr>\n",
       "  </tbody>\n",
       "</table>\n",
       "</div>"
      ],
      "text/plain": [
       "         Order ID       Product ID  Qty                             Key _merge\n",
       "0  CA-2014-100090  FUR-TA-10003715    3  CA-2014-100090_FUR-TA-10003715   both\n",
       "1  CA-2014-100090  OFF-BI-10001597    6  CA-2014-100090_OFF-BI-10001597   both"
      ]
     },
     "execution_count": 20,
     "metadata": {},
     "output_type": "execute_result"
    }
   ],
   "source": [
    "data2_left_join = data2.merge(data1, on = [\"Order ID\", \"Product ID\", \"Qty\",\"Key\"], how = \"left\", indicator = True)\n",
    "\n",
    "data2_left_join[:2]"
   ]
  },
  {
   "cell_type": "code",
   "execution_count": 21,
   "id": "4af24a68",
   "metadata": {},
   "outputs": [
    {
     "data": {
      "text/plain": [
       "(508, 5)"
      ]
     },
     "execution_count": 21,
     "metadata": {},
     "output_type": "execute_result"
    }
   ],
   "source": [
    "data2_only = data2_left_join[data2_left_join[\"_merge\"] == \"left_only\"]\n",
    "\n",
    "data2_only.shape"
   ]
  },
  {
   "cell_type": "markdown",
   "id": "260d399d",
   "metadata": {},
   "source": [
    "## Question 3: Find the Sum of the total Qty of Records missing in data1 but present in data2"
   ]
  },
  {
   "cell_type": "markdown",
   "id": "67cf2ce0",
   "metadata": {},
   "source": [
    "#### Answer is 1956"
   ]
  },
  {
   "cell_type": "markdown",
   "id": "7e17a475",
   "metadata": {},
   "source": [
    "#### Approach: \n",
    "- The final dataset orginated in Question 2 (i.e. data2_only) is our data of interest.\n",
    "- Applying pandas sum() to find the sum of the column values."
   ]
  },
  {
   "cell_type": "code",
   "execution_count": 22,
   "id": "6b18ec8e",
   "metadata": {},
   "outputs": [
    {
     "data": {
      "text/html": [
       "<div>\n",
       "<style scoped>\n",
       "    .dataframe tbody tr th:only-of-type {\n",
       "        vertical-align: middle;\n",
       "    }\n",
       "\n",
       "    .dataframe tbody tr th {\n",
       "        vertical-align: top;\n",
       "    }\n",
       "\n",
       "    .dataframe thead th {\n",
       "        text-align: right;\n",
       "    }\n",
       "</style>\n",
       "<table border=\"1\" class=\"dataframe\">\n",
       "  <thead>\n",
       "    <tr style=\"text-align: right;\">\n",
       "      <th></th>\n",
       "      <th>Order ID</th>\n",
       "      <th>Product ID</th>\n",
       "      <th>Qty</th>\n",
       "      <th>Key</th>\n",
       "      <th>_merge</th>\n",
       "    </tr>\n",
       "  </thead>\n",
       "  <tbody>\n",
       "    <tr>\n",
       "      <th>11</th>\n",
       "      <td>CA-2014-100706</td>\n",
       "      <td>TEC-AC-10001314</td>\n",
       "      <td>2</td>\n",
       "      <td>CA-2014-100706_TEC-AC-10001314</td>\n",
       "      <td>left_only</td>\n",
       "    </tr>\n",
       "    <tr>\n",
       "      <th>14</th>\n",
       "      <td>CA-2014-100762</td>\n",
       "      <td>OFF-PA-10001815</td>\n",
       "      <td>3</td>\n",
       "      <td>CA-2014-100762_OFF-PA-10001815</td>\n",
       "      <td>left_only</td>\n",
       "    </tr>\n",
       "    <tr>\n",
       "      <th>30</th>\n",
       "      <td>CA-2014-101427</td>\n",
       "      <td>OFF-AR-10002257</td>\n",
       "      <td>3</td>\n",
       "      <td>CA-2014-101427_OFF-AR-10002257</td>\n",
       "      <td>left_only</td>\n",
       "    </tr>\n",
       "    <tr>\n",
       "      <th>56</th>\n",
       "      <td>CA-2014-102652</td>\n",
       "      <td>FUR-FU-10001918</td>\n",
       "      <td>7</td>\n",
       "      <td>CA-2014-102652_FUR-FU-10001918</td>\n",
       "      <td>left_only</td>\n",
       "    </tr>\n",
       "    <tr>\n",
       "      <th>63</th>\n",
       "      <td>CA-2014-102869</td>\n",
       "      <td>OFF-PA-10000788</td>\n",
       "      <td>3</td>\n",
       "      <td>CA-2014-102869_OFF-PA-10000788</td>\n",
       "      <td>left_only</td>\n",
       "    </tr>\n",
       "  </tbody>\n",
       "</table>\n",
       "</div>"
      ],
      "text/plain": [
       "          Order ID       Product ID  Qty                             Key  \\\n",
       "11  CA-2014-100706  TEC-AC-10001314    2  CA-2014-100706_TEC-AC-10001314   \n",
       "14  CA-2014-100762  OFF-PA-10001815    3  CA-2014-100762_OFF-PA-10001815   \n",
       "30  CA-2014-101427  OFF-AR-10002257    3  CA-2014-101427_OFF-AR-10002257   \n",
       "56  CA-2014-102652  FUR-FU-10001918    7  CA-2014-102652_FUR-FU-10001918   \n",
       "63  CA-2014-102869  OFF-PA-10000788    3  CA-2014-102869_OFF-PA-10000788   \n",
       "\n",
       "       _merge  \n",
       "11  left_only  \n",
       "14  left_only  \n",
       "30  left_only  \n",
       "56  left_only  \n",
       "63  left_only  "
      ]
     },
     "execution_count": 22,
     "metadata": {},
     "output_type": "execute_result"
    }
   ],
   "source": [
    "data2_only.head()"
   ]
  },
  {
   "cell_type": "code",
   "execution_count": 25,
   "id": "deaa224b",
   "metadata": {},
   "outputs": [
    {
     "data": {
      "text/plain": [
       "0"
      ]
     },
     "execution_count": 25,
     "metadata": {},
     "output_type": "execute_result"
    }
   ],
   "source": [
    "## checking if there is any missing value in the column \"Qty\"\n",
    "data2_only[\"Qty\"].isna().sum()"
   ]
  },
  {
   "cell_type": "code",
   "execution_count": 27,
   "id": "f59f3f2d",
   "metadata": {},
   "outputs": [
    {
     "data": {
      "text/plain": [
       "1956"
      ]
     },
     "execution_count": 27,
     "metadata": {},
     "output_type": "execute_result"
    }
   ],
   "source": [
    "data2_only[\"Qty\"].sum()"
   ]
  },
  {
   "cell_type": "markdown",
   "id": "0b8a26a3",
   "metadata": {},
   "source": [
    "## Question 4: Find the total number of unique records (Order ID + Product ID combination) present in the combined dataset of data1 and data2\n"
   ]
  },
  {
   "cell_type": "markdown",
   "id": "056b1c77",
   "metadata": {},
   "source": [
    "#### Answer is 8971"
   ]
  },
  {
   "cell_type": "markdown",
   "id": "c3a0f18f",
   "metadata": {},
   "source": [
    "#### Approach:\n",
    "- Applying inner join on data1 and data2 to get the common rows.\n",
    "- Using the columns along with \"Key\" as primary key to combine them.\n",
    "- Finding the shape to get the number of rows, hence finding the number of unique records.\n",
    "\n",
    "#### Alternative approach:\n",
    "- We have size of data1 (9478).\n",
    "- We also have the size of data that is present in data1 and not present in data2 (507). \n",
    "- So the number of rows present in both data1 and data2 = _9478 - 507 = 8971_"
   ]
  },
  {
   "cell_type": "code",
   "execution_count": 38,
   "id": "27726a58",
   "metadata": {},
   "outputs": [],
   "source": [
    "combined_data = data1.merge(data2, on = [\"Order ID\", \"Product ID\", \"Qty\",\"Key\"], how = \"inner\")"
   ]
  },
  {
   "cell_type": "code",
   "execution_count": 39,
   "id": "21de6ff0",
   "metadata": {},
   "outputs": [
    {
     "data": {
      "text/plain": [
       "(8971, 4)"
      ]
     },
     "execution_count": 39,
     "metadata": {},
     "output_type": "execute_result"
    }
   ],
   "source": [
    "combined_data.shape"
   ]
  },
  {
   "cell_type": "code",
   "execution_count": null,
   "id": "e7a1c652",
   "metadata": {},
   "outputs": [],
   "source": []
  }
 ],
 "metadata": {
  "kernelspec": {
   "display_name": "Python 3",
   "language": "python",
   "name": "python3"
  },
  "language_info": {
   "codemirror_mode": {
    "name": "ipython",
    "version": 3
   },
   "file_extension": ".py",
   "mimetype": "text/x-python",
   "name": "python",
   "nbconvert_exporter": "python",
   "pygments_lexer": "ipython3",
   "version": "3.7.8rc1"
  }
 },
 "nbformat": 4,
 "nbformat_minor": 5
}
